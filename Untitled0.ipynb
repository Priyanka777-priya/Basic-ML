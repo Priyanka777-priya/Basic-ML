{
  "nbformat": 4,
  "nbformat_minor": 0,
  "metadata": {
    "colab": {
      "name": "Untitled0.ipynb",
      "provenance": [],
      "authorship_tag": "ABX9TyNFTO+1r30lFiWfhdw076wf",
      "include_colab_link": true
    },
    "kernelspec": {
      "display_name": "Python 3",
      "name": "python3"
    },
    "language_info": {
      "name": "python"
    }
  },
  "cells": [
    {
      "cell_type": "markdown",
      "metadata": {
        "id": "view-in-github",
        "colab_type": "text"
      },
      "source": [
        "<a href=\"https://colab.research.google.com/github/Priyanka777-priya/Basic-ML/blob/main/Untitled0.ipynb\" target=\"_parent\"><img src=\"https://colab.research.google.com/assets/colab-badge.svg\" alt=\"Open In Colab\"/></a>"
      ]
    },
    {
      "cell_type": "code",
      "metadata": {
        "colab": {
          "base_uri": "https://localhost:8080/"
        },
        "id": "AqcfRC8Nh8o7",
        "outputId": "23e5b710-4e9b-45c5-e591-76e84e9f79ae"
      },
      "source": [
        "a = 5\n",
        "b = 3\n",
        "print(a+b)"
      ],
      "execution_count": null,
      "outputs": [
        {
          "output_type": "stream",
          "text": [
            "8\n"
          ],
          "name": "stdout"
        }
      ]
    },
    {
      "cell_type": "code",
      "metadata": {
        "colab": {
          "base_uri": "https://localhost:8080/"
        },
        "id": "OEBAcMXKiOBO",
        "outputId": "19a5bb4a-7469-448e-a258-51dac8fee458"
      },
      "source": [
        "a = 6\n",
        "if a%2==0:\n",
        "    print(\"even\")\n",
        "else:\n",
        "    print(\"odd\")"
      ],
      "execution_count": null,
      "outputs": [
        {
          "output_type": "stream",
          "text": [
            "even\n"
          ],
          "name": "stdout"
        }
      ]
    },
    {
      "cell_type": "markdown",
      "metadata": {
        "id": "MnkaA7kliO0w"
      },
      "source": [
        ""
      ]
    },
    {
      "cell_type": "code",
      "metadata": {
        "colab": {
          "base_uri": "https://localhost:8080/"
        },
        "id": "oeWtgVINkAUU",
        "outputId": "acf709d9-8020-4b92-e099-629a13226fa8"
      },
      "source": [
        "n=5\n",
        "a=1\n",
        "for i in range(1,n+1):\n",
        "    a=a*i\n",
        "print(a)"
      ],
      "execution_count": null,
      "outputs": [
        {
          "output_type": "stream",
          "text": [
            "120\n"
          ],
          "name": "stdout"
        }
      ]
    },
    {
      "cell_type": "code",
      "metadata": {
        "colab": {
          "base_uri": "https://localhost:8080/"
        },
        "id": "o3EfVNLtkWDf",
        "outputId": "147d9672-fad5-43c0-bb18-8be562873aef"
      },
      "source": [
        "a=4\n",
        "b=7\n",
        "if a>b:\n",
        "   print(a)\n",
        "else:\n",
        "   print(b)"
      ],
      "execution_count": null,
      "outputs": [
        {
          "output_type": "stream",
          "text": [
            "7\n"
          ],
          "name": "stdout"
        }
      ]
    },
    {
      "cell_type": "code",
      "metadata": {
        "colab": {
          "base_uri": "https://localhost:8080/"
        },
        "id": "QLcElq4Rkgz0",
        "outputId": "03c79671-0363-4c91-dbd9-7b6b7ab1b8d7"
      },
      "source": [
        "a=\"Hello world\"\n",
        "print(a)"
      ],
      "execution_count": null,
      "outputs": [
        {
          "output_type": "stream",
          "text": [
            "Hello world\n"
          ],
          "name": "stdout"
        }
      ]
    },
    {
      "cell_type": "code",
      "metadata": {
        "colab": {
          "base_uri": "https://localhost:8080/"
        },
        "id": "SF3rdLMHkqfm",
        "outputId": "8c66cc3f-4e0e-4fbd-b7a8-0c643566294d"
      },
      "source": [
        "n=3\n",
        "sum=0\n",
        "for i in range(1,n+1):\n",
        "   sum+=i\n",
        "print(sum)"
      ],
      "execution_count": null,
      "outputs": [
        {
          "output_type": "stream",
          "text": [
            "6\n"
          ],
          "name": "stdout"
        }
      ]
    },
    {
      "cell_type": "code",
      "metadata": {
        "colab": {
          "background_save": true
        },
        "id": "1AVJvhlKk4ix",
        "outputId": "ef10f0d8-ec9b-4d7c-dee9-19dcc46f6782"
      },
      "source": [
        "n=2\n",
        "sum=0\n",
        "for i in range(1,n+1):\n",
        "   sum=i**2\n",
        "print(sum)"
      ],
      "execution_count": null,
      "outputs": [
        {
          "output_type": "stream",
          "text": [
            "4\n"
          ],
          "name": "stdout"
        }
      ]
    }
  ]
}