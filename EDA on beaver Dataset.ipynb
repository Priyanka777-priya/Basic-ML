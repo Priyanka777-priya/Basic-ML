{
  "nbformat": 4,
  "nbformat_minor": 0,
  "metadata": {
    "colab": {
      "name": "Untitled3.ipynb",
      "provenance": [],
      "collapsed_sections": [],
      "authorship_tag": "ABX9TyOG8Jc+Dz1g3TNWtIKOnXnx",
      "include_colab_link": true
    },
    "kernelspec": {
      "name": "python3",
      "display_name": "Python 3"
    },
    "language_info": {
      "name": "python"
    }
  },
  "cells": [
    {
      "cell_type": "markdown",
      "metadata": {
        "id": "view-in-github",
        "colab_type": "text"
      },
      "source": [
        "<a href=\"https://colab.research.google.com/github/Priyanka777-priya/Basic-ML/blob/main/EDA%20on%20beaver%20Dataset.ipynb\" target=\"_parent\"><img src=\"https://colab.research.google.com/assets/colab-badge.svg\" alt=\"Open In Colab\"/></a>"
      ]
    },
    {
      "cell_type": "code",
      "metadata": {
        "id": "Hid1M1c5mOd8"
      },
      "source": [
        ""
      ],
      "execution_count": null,
      "outputs": []
    },
    {
      "cell_type": "markdown",
      "metadata": {
        "id": "uWldWn6PskRm"
      },
      "source": [
        "# ***EDA*** ***ON*** ***BEAVER*** ***DATASET***\n"
      ]
    },
    {
      "cell_type": "markdown",
      "metadata": {
        "id": "Q3wzT_Fku1ps"
      },
      "source": [
        "### ***Introduction***"
      ]
    },
    {
      "cell_type": "markdown",
      "metadata": {
        "id": "Z82mfwqfwDXF"
      },
      "source": [
        "In this notebook , I have done the Exploratory Data Analysis of the beaver body temperature and tried to gain useful insights from the data.the feautures present in the data set are :"
      ]
    },
    {
      "cell_type": "markdown",
      "metadata": {
        "id": "6HHOVWLLP-ea"
      },
      "source": [
        "\n",
        "\n",
        "*   day\n",
        "*   temp\n",
        "*   time\n",
        "*   active\n",
        "\n",
        "\n",
        "\n"
      ]
    },
    {
      "cell_type": "markdown",
      "metadata": {
        "id": "JETL_0hGxu4g"
      },
      "source": [
        "## ***Importing*** ***Libraries*** "
      ]
    },
    {
      "cell_type": "code",
      "metadata": {
        "id": "nJ5B7V5_ySd8"
      },
      "source": [
        "import pandas as pd\n",
        "import numpy as np\n",
        "import matplotlib.pyplot as plt \n",
        "import seaborn as sns\n",
        "\n",
        "%matplotlib inline"
      ],
      "execution_count": null,
      "outputs": []
    },
    {
      "cell_type": "markdown",
      "metadata": {
        "id": "om4dHzV-yd58"
      },
      "source": [
        "### ***Preliminary Data Processing***"
      ]
    },
    {
      "cell_type": "markdown",
      "metadata": {
        "id": "58dT7qZyysom"
      },
      "source": [
        "To start off,we read in our dataset and generate a simple preview and statistics of our data."
      ]
    },
    {
      "cell_type": "markdown",
      "metadata": {
        "id": "Gr97O5f9y9JN"
      },
      "source": [
        "### ***Loading Data***"
      ]
    },
    {
      "cell_type": "code",
      "metadata": {
        "colab": {
          "base_uri": "https://localhost:8080/",
          "height": 417
        },
        "id": "3tM88QjmDZoh",
        "outputId": "6dea4d46-37ae-4ba5-82c3-a529546aeea3"
      },
      "source": [
        "df=pd.read_csv(\"beaver.csv\")\n",
        "df"
      ],
      "execution_count": null,
      "outputs": [
        {
          "output_type": "execute_result",
          "data": {
            "text/html": [
              "<div>\n",
              "<style scoped>\n",
              "    .dataframe tbody tr th:only-of-type {\n",
              "        vertical-align: middle;\n",
              "    }\n",
              "\n",
              "    .dataframe tbody tr th {\n",
              "        vertical-align: top;\n",
              "    }\n",
              "\n",
              "    .dataframe thead th {\n",
              "        text-align: right;\n",
              "    }\n",
              "</style>\n",
              "<table border=\"1\" class=\"dataframe\">\n",
              "  <thead>\n",
              "    <tr style=\"text-align: right;\">\n",
              "      <th></th>\n",
              "      <th>Unnamed: 0</th>\n",
              "      <th>day</th>\n",
              "      <th>time</th>\n",
              "      <th>temp</th>\n",
              "      <th>activ</th>\n",
              "    </tr>\n",
              "  </thead>\n",
              "  <tbody>\n",
              "    <tr>\n",
              "      <th>0</th>\n",
              "      <td>1</td>\n",
              "      <td>307</td>\n",
              "      <td>930</td>\n",
              "      <td>36.58</td>\n",
              "      <td>0</td>\n",
              "    </tr>\n",
              "    <tr>\n",
              "      <th>1</th>\n",
              "      <td>2</td>\n",
              "      <td>307</td>\n",
              "      <td>940</td>\n",
              "      <td>36.73</td>\n",
              "      <td>0</td>\n",
              "    </tr>\n",
              "    <tr>\n",
              "      <th>2</th>\n",
              "      <td>3</td>\n",
              "      <td>307</td>\n",
              "      <td>950</td>\n",
              "      <td>36.93</td>\n",
              "      <td>0</td>\n",
              "    </tr>\n",
              "    <tr>\n",
              "      <th>3</th>\n",
              "      <td>4</td>\n",
              "      <td>307</td>\n",
              "      <td>1000</td>\n",
              "      <td>37.15</td>\n",
              "      <td>0</td>\n",
              "    </tr>\n",
              "    <tr>\n",
              "      <th>4</th>\n",
              "      <td>5</td>\n",
              "      <td>307</td>\n",
              "      <td>1010</td>\n",
              "      <td>37.23</td>\n",
              "      <td>0</td>\n",
              "    </tr>\n",
              "    <tr>\n",
              "      <th>...</th>\n",
              "      <td>...</td>\n",
              "      <td>...</td>\n",
              "      <td>...</td>\n",
              "      <td>...</td>\n",
              "      <td>...</td>\n",
              "    </tr>\n",
              "    <tr>\n",
              "      <th>95</th>\n",
              "      <td>96</td>\n",
              "      <td>308</td>\n",
              "      <td>120</td>\n",
              "      <td>37.73</td>\n",
              "      <td>1</td>\n",
              "    </tr>\n",
              "    <tr>\n",
              "      <th>96</th>\n",
              "      <td>97</td>\n",
              "      <td>308</td>\n",
              "      <td>130</td>\n",
              "      <td>37.77</td>\n",
              "      <td>1</td>\n",
              "    </tr>\n",
              "    <tr>\n",
              "      <th>97</th>\n",
              "      <td>98</td>\n",
              "      <td>308</td>\n",
              "      <td>140</td>\n",
              "      <td>38.01</td>\n",
              "      <td>1</td>\n",
              "    </tr>\n",
              "    <tr>\n",
              "      <th>98</th>\n",
              "      <td>99</td>\n",
              "      <td>308</td>\n",
              "      <td>150</td>\n",
              "      <td>38.04</td>\n",
              "      <td>1</td>\n",
              "    </tr>\n",
              "    <tr>\n",
              "      <th>99</th>\n",
              "      <td>100</td>\n",
              "      <td>308</td>\n",
              "      <td>200</td>\n",
              "      <td>38.07</td>\n",
              "      <td>1</td>\n",
              "    </tr>\n",
              "  </tbody>\n",
              "</table>\n",
              "<p>100 rows × 5 columns</p>\n",
              "</div>"
            ],
            "text/plain": [
              "    Unnamed: 0  day  time   temp  activ\n",
              "0            1  307   930  36.58      0\n",
              "1            2  307   940  36.73      0\n",
              "2            3  307   950  36.93      0\n",
              "3            4  307  1000  37.15      0\n",
              "4            5  307  1010  37.23      0\n",
              "..         ...  ...   ...    ...    ...\n",
              "95          96  308   120  37.73      1\n",
              "96          97  308   130  37.77      1\n",
              "97          98  308   140  38.01      1\n",
              "98          99  308   150  38.04      1\n",
              "99         100  308   200  38.07      1\n",
              "\n",
              "[100 rows x 5 columns]"
            ]
          },
          "metadata": {},
          "execution_count": 44
        }
      ]
    },
    {
      "cell_type": "markdown",
      "metadata": {
        "id": "gSqFG1b0zX0c"
      },
      "source": [
        "The output shows that we have around 100 entries with 5 columns in our dataset."
      ]
    },
    {
      "cell_type": "markdown",
      "metadata": {
        "id": "9ow-Wnn2zksN"
      },
      "source": [
        "### ***Understanding the Data***"
      ]
    },
    {
      "cell_type": "code",
      "metadata": {
        "colab": {
          "base_uri": "https://localhost:8080/",
          "height": 203
        },
        "id": "RL78nypJzsVx",
        "outputId": "6a4b7843-932d-4dea-df78-6a84d4cdc141"
      },
      "source": [
        "df.head()"
      ],
      "execution_count": null,
      "outputs": [
        {
          "output_type": "execute_result",
          "data": {
            "text/html": [
              "<div>\n",
              "<style scoped>\n",
              "    .dataframe tbody tr th:only-of-type {\n",
              "        vertical-align: middle;\n",
              "    }\n",
              "\n",
              "    .dataframe tbody tr th {\n",
              "        vertical-align: top;\n",
              "    }\n",
              "\n",
              "    .dataframe thead th {\n",
              "        text-align: right;\n",
              "    }\n",
              "</style>\n",
              "<table border=\"1\" class=\"dataframe\">\n",
              "  <thead>\n",
              "    <tr style=\"text-align: right;\">\n",
              "      <th></th>\n",
              "      <th>Unnamed: 0</th>\n",
              "      <th>day</th>\n",
              "      <th>time</th>\n",
              "      <th>temp</th>\n",
              "      <th>activ</th>\n",
              "    </tr>\n",
              "  </thead>\n",
              "  <tbody>\n",
              "    <tr>\n",
              "      <th>0</th>\n",
              "      <td>1</td>\n",
              "      <td>307</td>\n",
              "      <td>930</td>\n",
              "      <td>36.58</td>\n",
              "      <td>0</td>\n",
              "    </tr>\n",
              "    <tr>\n",
              "      <th>1</th>\n",
              "      <td>2</td>\n",
              "      <td>307</td>\n",
              "      <td>940</td>\n",
              "      <td>36.73</td>\n",
              "      <td>0</td>\n",
              "    </tr>\n",
              "    <tr>\n",
              "      <th>2</th>\n",
              "      <td>3</td>\n",
              "      <td>307</td>\n",
              "      <td>950</td>\n",
              "      <td>36.93</td>\n",
              "      <td>0</td>\n",
              "    </tr>\n",
              "    <tr>\n",
              "      <th>3</th>\n",
              "      <td>4</td>\n",
              "      <td>307</td>\n",
              "      <td>1000</td>\n",
              "      <td>37.15</td>\n",
              "      <td>0</td>\n",
              "    </tr>\n",
              "    <tr>\n",
              "      <th>4</th>\n",
              "      <td>5</td>\n",
              "      <td>307</td>\n",
              "      <td>1010</td>\n",
              "      <td>37.23</td>\n",
              "      <td>0</td>\n",
              "    </tr>\n",
              "  </tbody>\n",
              "</table>\n",
              "</div>"
            ],
            "text/plain": [
              "   Unnamed: 0  day  time   temp  activ\n",
              "0           1  307   930  36.58      0\n",
              "1           2  307   940  36.73      0\n",
              "2           3  307   950  36.93      0\n",
              "3           4  307  1000  37.15      0\n",
              "4           5  307  1010  37.23      0"
            ]
          },
          "metadata": {},
          "execution_count": 14
        }
      ]
    },
    {
      "cell_type": "markdown",
      "metadata": {
        "id": "Fa1wPTGpzx0k"
      },
      "source": [
        "The output shows the first 5 rows of our dataset."
      ]
    },
    {
      "cell_type": "code",
      "metadata": {
        "colab": {
          "base_uri": "https://localhost:8080/",
          "height": 203
        },
        "id": "IF5TKCx5z60s",
        "outputId": "3d3a46c4-6734-4baf-c252-b03f263b472f"
      },
      "source": [
        "df.tail()"
      ],
      "execution_count": null,
      "outputs": [
        {
          "output_type": "execute_result",
          "data": {
            "text/html": [
              "<div>\n",
              "<style scoped>\n",
              "    .dataframe tbody tr th:only-of-type {\n",
              "        vertical-align: middle;\n",
              "    }\n",
              "\n",
              "    .dataframe tbody tr th {\n",
              "        vertical-align: top;\n",
              "    }\n",
              "\n",
              "    .dataframe thead th {\n",
              "        text-align: right;\n",
              "    }\n",
              "</style>\n",
              "<table border=\"1\" class=\"dataframe\">\n",
              "  <thead>\n",
              "    <tr style=\"text-align: right;\">\n",
              "      <th></th>\n",
              "      <th>Unnamed: 0</th>\n",
              "      <th>day</th>\n",
              "      <th>time</th>\n",
              "      <th>temp</th>\n",
              "      <th>activ</th>\n",
              "    </tr>\n",
              "  </thead>\n",
              "  <tbody>\n",
              "    <tr>\n",
              "      <th>95</th>\n",
              "      <td>96</td>\n",
              "      <td>308</td>\n",
              "      <td>120</td>\n",
              "      <td>37.73</td>\n",
              "      <td>1</td>\n",
              "    </tr>\n",
              "    <tr>\n",
              "      <th>96</th>\n",
              "      <td>97</td>\n",
              "      <td>308</td>\n",
              "      <td>130</td>\n",
              "      <td>37.77</td>\n",
              "      <td>1</td>\n",
              "    </tr>\n",
              "    <tr>\n",
              "      <th>97</th>\n",
              "      <td>98</td>\n",
              "      <td>308</td>\n",
              "      <td>140</td>\n",
              "      <td>38.01</td>\n",
              "      <td>1</td>\n",
              "    </tr>\n",
              "    <tr>\n",
              "      <th>98</th>\n",
              "      <td>99</td>\n",
              "      <td>308</td>\n",
              "      <td>150</td>\n",
              "      <td>38.04</td>\n",
              "      <td>1</td>\n",
              "    </tr>\n",
              "    <tr>\n",
              "      <th>99</th>\n",
              "      <td>100</td>\n",
              "      <td>308</td>\n",
              "      <td>200</td>\n",
              "      <td>38.07</td>\n",
              "      <td>1</td>\n",
              "    </tr>\n",
              "  </tbody>\n",
              "</table>\n",
              "</div>"
            ],
            "text/plain": [
              "    Unnamed: 0  day  time   temp  activ\n",
              "95          96  308   120  37.73      1\n",
              "96          97  308   130  37.77      1\n",
              "97          98  308   140  38.01      1\n",
              "98          99  308   150  38.04      1\n",
              "99         100  308   200  38.07      1"
            ]
          },
          "metadata": {},
          "execution_count": 15
        }
      ]
    },
    {
      "cell_type": "markdown",
      "metadata": {
        "id": "ZoCXcD1uz-M2"
      },
      "source": [
        "The output shows the last 5 rows of our dataset."
      ]
    },
    {
      "cell_type": "code",
      "metadata": {
        "colab": {
          "base_uri": "https://localhost:8080/"
        },
        "id": "_aPv1s-s0Fr3",
        "outputId": "0fce978f-a75e-4a08-8b1b-300f792a8465"
      },
      "source": [
        "df.shape"
      ],
      "execution_count": null,
      "outputs": [
        {
          "output_type": "execute_result",
          "data": {
            "text/plain": [
              "(100, 5)"
            ]
          },
          "metadata": {},
          "execution_count": 16
        }
      ]
    },
    {
      "cell_type": "markdown",
      "metadata": {
        "id": "WYkkTwrJ0JZV"
      },
      "source": [
        "We observe from this above line that our dataset has 100 rows and 5 columns."
      ]
    },
    {
      "cell_type": "code",
      "metadata": {
        "colab": {
          "base_uri": "https://localhost:8080/"
        },
        "id": "T_Q_R30i0bFm",
        "outputId": "5c914edd-0d86-4424-beaf-2e45a86bb90f"
      },
      "source": [
        "df.columns"
      ],
      "execution_count": null,
      "outputs": [
        {
          "output_type": "execute_result",
          "data": {
            "text/plain": [
              "Index(['Unnamed: 0', 'day', 'time', 'temp', 'activ'], dtype='object')"
            ]
          },
          "metadata": {},
          "execution_count": 17
        }
      ]
    },
    {
      "cell_type": "markdown",
      "metadata": {
        "id": "G0s6qJ8I2Ib1"
      },
      "source": [
        "The output shows the names of the columns in our dataset."
      ]
    },
    {
      "cell_type": "code",
      "metadata": {
        "colab": {
          "base_uri": "https://localhost:8080/",
          "height": 295
        },
        "id": "6W2pBBaj2Yl9",
        "outputId": "c1293ae0-c7cd-4834-87c9-8a781a9ba996"
      },
      "source": [
        "df.describe(include=\"all\")"
      ],
      "execution_count": null,
      "outputs": [
        {
          "output_type": "execute_result",
          "data": {
            "text/html": [
              "<div>\n",
              "<style scoped>\n",
              "    .dataframe tbody tr th:only-of-type {\n",
              "        vertical-align: middle;\n",
              "    }\n",
              "\n",
              "    .dataframe tbody tr th {\n",
              "        vertical-align: top;\n",
              "    }\n",
              "\n",
              "    .dataframe thead th {\n",
              "        text-align: right;\n",
              "    }\n",
              "</style>\n",
              "<table border=\"1\" class=\"dataframe\">\n",
              "  <thead>\n",
              "    <tr style=\"text-align: right;\">\n",
              "      <th></th>\n",
              "      <th>Unnamed: 0</th>\n",
              "      <th>day</th>\n",
              "      <th>time</th>\n",
              "      <th>temp</th>\n",
              "      <th>activ</th>\n",
              "    </tr>\n",
              "  </thead>\n",
              "  <tbody>\n",
              "    <tr>\n",
              "      <th>count</th>\n",
              "      <td>100.000000</td>\n",
              "      <td>100.000000</td>\n",
              "      <td>100.000000</td>\n",
              "      <td>100.000000</td>\n",
              "      <td>100.000000</td>\n",
              "    </tr>\n",
              "    <tr>\n",
              "      <th>mean</th>\n",
              "      <td>50.500000</td>\n",
              "      <td>307.130000</td>\n",
              "      <td>1446.200000</td>\n",
              "      <td>37.596700</td>\n",
              "      <td>0.620000</td>\n",
              "    </tr>\n",
              "    <tr>\n",
              "      <th>std</th>\n",
              "      <td>29.011492</td>\n",
              "      <td>0.337998</td>\n",
              "      <td>658.967328</td>\n",
              "      <td>0.446789</td>\n",
              "      <td>0.487832</td>\n",
              "    </tr>\n",
              "    <tr>\n",
              "      <th>min</th>\n",
              "      <td>1.000000</td>\n",
              "      <td>307.000000</td>\n",
              "      <td>0.000000</td>\n",
              "      <td>36.580000</td>\n",
              "      <td>0.000000</td>\n",
              "    </tr>\n",
              "    <tr>\n",
              "      <th>25%</th>\n",
              "      <td>25.750000</td>\n",
              "      <td>307.000000</td>\n",
              "      <td>1127.500000</td>\n",
              "      <td>37.147500</td>\n",
              "      <td>0.000000</td>\n",
              "    </tr>\n",
              "    <tr>\n",
              "      <th>50%</th>\n",
              "      <td>50.500000</td>\n",
              "      <td>307.000000</td>\n",
              "      <td>1535.000000</td>\n",
              "      <td>37.735000</td>\n",
              "      <td>1.000000</td>\n",
              "    </tr>\n",
              "    <tr>\n",
              "      <th>75%</th>\n",
              "      <td>75.250000</td>\n",
              "      <td>307.000000</td>\n",
              "      <td>1942.500000</td>\n",
              "      <td>37.985000</td>\n",
              "      <td>1.000000</td>\n",
              "    </tr>\n",
              "    <tr>\n",
              "      <th>max</th>\n",
              "      <td>100.000000</td>\n",
              "      <td>308.000000</td>\n",
              "      <td>2350.000000</td>\n",
              "      <td>38.350000</td>\n",
              "      <td>1.000000</td>\n",
              "    </tr>\n",
              "  </tbody>\n",
              "</table>\n",
              "</div>"
            ],
            "text/plain": [
              "       Unnamed: 0         day         time        temp       activ\n",
              "count  100.000000  100.000000   100.000000  100.000000  100.000000\n",
              "mean    50.500000  307.130000  1446.200000   37.596700    0.620000\n",
              "std     29.011492    0.337998   658.967328    0.446789    0.487832\n",
              "min      1.000000  307.000000     0.000000   36.580000    0.000000\n",
              "25%     25.750000  307.000000  1127.500000   37.147500    0.000000\n",
              "50%     50.500000  307.000000  1535.000000   37.735000    1.000000\n",
              "75%     75.250000  307.000000  1942.500000   37.985000    1.000000\n",
              "max    100.000000  308.000000  2350.000000   38.350000    1.000000"
            ]
          },
          "metadata": {},
          "execution_count": 18
        }
      ]
    },
    {
      "cell_type": "markdown",
      "metadata": {
        "id": "a5gEuByt2mBt"
      },
      "source": [
        "This method generates a high-level summary of the attributes over each column of the dataset.more probably,it provides the statistical insights of the dataset."
      ]
    },
    {
      "cell_type": "code",
      "metadata": {
        "colab": {
          "base_uri": "https://localhost:8080/"
        },
        "id": "XVjs09QB295z",
        "outputId": "35d0fb47-ec75-4d99-d5e1-f94e800e62bc"
      },
      "source": [
        "df.info()"
      ],
      "execution_count": null,
      "outputs": [
        {
          "output_type": "stream",
          "name": "stdout",
          "text": [
            "<class 'pandas.core.frame.DataFrame'>\n",
            "RangeIndex: 100 entries, 0 to 99\n",
            "Data columns (total 5 columns):\n",
            " #   Column      Non-Null Count  Dtype  \n",
            "---  ------      --------------  -----  \n",
            " 0   Unnamed: 0  100 non-null    int64  \n",
            " 1   day         100 non-null    int64  \n",
            " 2   time        100 non-null    int64  \n",
            " 3   temp        100 non-null    float64\n",
            " 4   activ       100 non-null    int64  \n",
            "dtypes: float64(1), int64(4)\n",
            "memory usage: 4.0 KB\n"
          ]
        }
      ]
    },
    {
      "cell_type": "markdown",
      "metadata": {
        "id": "gBWZuVbv3Y1f"
      },
      "source": [
        "Here is the more information of our dataset choosen.from the above observation it is clear that all the columns of our dataset are free from null values."
      ]
    },
    {
      "cell_type": "code",
      "metadata": {
        "colab": {
          "base_uri": "https://localhost:8080/"
        },
        "id": "iAOLNBlh48dc",
        "outputId": "eb24e436-cc16-4743-d027-dcaf12d641d7"
      },
      "source": [
        "df.isnull().sum()"
      ],
      "execution_count": null,
      "outputs": [
        {
          "output_type": "execute_result",
          "data": {
            "text/plain": [
              "Unnamed: 0    0\n",
              "day           0\n",
              "time          0\n",
              "temp          0\n",
              "activ         0\n",
              "dtype: int64"
            ]
          },
          "metadata": {},
          "execution_count": 20
        }
      ]
    },
    {
      "cell_type": "markdown",
      "metadata": {
        "id": "1qUOhmqj5G00"
      },
      "source": [
        "Here,we dont have any missing values in our dataset."
      ]
    },
    {
      "cell_type": "code",
      "metadata": {
        "colab": {
          "base_uri": "https://localhost:8080/",
          "height": 357
        },
        "id": "hIBIR3AF5QIu",
        "outputId": "a1cc4ea7-970a-4b59-bbd6-f41d975e53b7"
      },
      "source": [
        "df.iloc[:10,:3]"
      ],
      "execution_count": null,
      "outputs": [
        {
          "output_type": "execute_result",
          "data": {
            "text/html": [
              "<div>\n",
              "<style scoped>\n",
              "    .dataframe tbody tr th:only-of-type {\n",
              "        vertical-align: middle;\n",
              "    }\n",
              "\n",
              "    .dataframe tbody tr th {\n",
              "        vertical-align: top;\n",
              "    }\n",
              "\n",
              "    .dataframe thead th {\n",
              "        text-align: right;\n",
              "    }\n",
              "</style>\n",
              "<table border=\"1\" class=\"dataframe\">\n",
              "  <thead>\n",
              "    <tr style=\"text-align: right;\">\n",
              "      <th></th>\n",
              "      <th>Unnamed: 0</th>\n",
              "      <th>day</th>\n",
              "      <th>time</th>\n",
              "    </tr>\n",
              "  </thead>\n",
              "  <tbody>\n",
              "    <tr>\n",
              "      <th>0</th>\n",
              "      <td>1</td>\n",
              "      <td>307</td>\n",
              "      <td>930</td>\n",
              "    </tr>\n",
              "    <tr>\n",
              "      <th>1</th>\n",
              "      <td>2</td>\n",
              "      <td>307</td>\n",
              "      <td>940</td>\n",
              "    </tr>\n",
              "    <tr>\n",
              "      <th>2</th>\n",
              "      <td>3</td>\n",
              "      <td>307</td>\n",
              "      <td>950</td>\n",
              "    </tr>\n",
              "    <tr>\n",
              "      <th>3</th>\n",
              "      <td>4</td>\n",
              "      <td>307</td>\n",
              "      <td>1000</td>\n",
              "    </tr>\n",
              "    <tr>\n",
              "      <th>4</th>\n",
              "      <td>5</td>\n",
              "      <td>307</td>\n",
              "      <td>1010</td>\n",
              "    </tr>\n",
              "    <tr>\n",
              "      <th>5</th>\n",
              "      <td>6</td>\n",
              "      <td>307</td>\n",
              "      <td>1020</td>\n",
              "    </tr>\n",
              "    <tr>\n",
              "      <th>6</th>\n",
              "      <td>7</td>\n",
              "      <td>307</td>\n",
              "      <td>1030</td>\n",
              "    </tr>\n",
              "    <tr>\n",
              "      <th>7</th>\n",
              "      <td>8</td>\n",
              "      <td>307</td>\n",
              "      <td>1040</td>\n",
              "    </tr>\n",
              "    <tr>\n",
              "      <th>8</th>\n",
              "      <td>9</td>\n",
              "      <td>307</td>\n",
              "      <td>1050</td>\n",
              "    </tr>\n",
              "    <tr>\n",
              "      <th>9</th>\n",
              "      <td>10</td>\n",
              "      <td>307</td>\n",
              "      <td>1100</td>\n",
              "    </tr>\n",
              "  </tbody>\n",
              "</table>\n",
              "</div>"
            ],
            "text/plain": [
              "   Unnamed: 0  day  time\n",
              "0           1  307   930\n",
              "1           2  307   940\n",
              "2           3  307   950\n",
              "3           4  307  1000\n",
              "4           5  307  1010\n",
              "5           6  307  1020\n",
              "6           7  307  1030\n",
              "7           8  307  1040\n",
              "8           9  307  1050\n",
              "9          10  307  1100"
            ]
          },
          "metadata": {},
          "execution_count": 21
        }
      ]
    },
    {
      "cell_type": "markdown",
      "metadata": {
        "id": "RMlwAnRH5ZQF"
      },
      "source": [
        "By using positional based indexing function iloc[:10,:3],we got the part of the dataset which is having 10 rows and 3 columns."
      ]
    },
    {
      "cell_type": "markdown",
      "metadata": {
        "id": "Ue06VtxCFef1"
      },
      "source": [
        "## ***DATA*** ***VISUALIZATION***"
      ]
    },
    {
      "cell_type": "markdown",
      "metadata": {
        "id": "adz4diRRFfi8"
      },
      "source": [
        "### ***COUNT PLOT***"
      ]
    },
    {
      "cell_type": "code",
      "metadata": {
        "colab": {
          "base_uri": "https://localhost:8080/",
          "height": 279
        },
        "id": "ZZtD-yeKFh7m",
        "outputId": "4e719473-0f6c-4db9-d46a-4e980e1cbfc2"
      },
      "source": [
        "plot=sns.countplot(x=\"activ\",data=df)"
      ],
      "execution_count": null,
      "outputs": [
        {
          "output_type": "display_data",
          "data": {
            "image/png": "[encoded data removed]",
            "text/plain": [
              "<Figure size 432x288 with 1 Axes>"
            ]
          },
          "metadata": {
            "needs_background": "light"
          }
        }
      ]
    },
    {
      "cell_type": "markdown",
      "metadata": {
        "id": "qkTXrxw4Fp2Y"
      },
      "source": [
        "from this visualization we can observe that our data set is a unbalanced dataset. In this data set\n",
        "\n",
        "0 indicates that beaver is in the threat and engaging  in low intensity activities,\n",
        "\n",
        "1 indicates that beaver is outside the threat and engaging  in high intensity activities.\n",
        "\n",
        "from the above plot it is clear that more number of beavers are outside the threat and engaging in high intensity activities."
      ]
    },
    {
      "cell_type": "markdown",
      "metadata": {
        "id": "X8k5QIXUGsxV"
      },
      "source": [
        "### ***CORRELATION BETWEEN VARIABLES***"
      ]
    },
    {
      "cell_type": "code",
      "metadata": {
        "colab": {
          "base_uri": "https://localhost:8080/",
          "height": 203
        },
        "id": "U7L1aOyuG6Aj",
        "outputId": "3668221d-f783-48bb-c19d-deb4cd77d391"
      },
      "source": [
        "data.corr()"
      ],
      "execution_count": null,
      "outputs": [
        {
          "output_type": "execute_result",
          "data": {
            "text/html": [
              "<div>\n",
              "<style scoped>\n",
              "    .dataframe tbody tr th:only-of-type {\n",
              "        vertical-align: middle;\n",
              "    }\n",
              "\n",
              "    .dataframe tbody tr th {\n",
              "        vertical-align: top;\n",
              "    }\n",
              "\n",
              "    .dataframe thead th {\n",
              "        text-align: right;\n",
              "    }\n",
              "</style>\n",
              "<table border=\"1\" class=\"dataframe\">\n",
              "  <thead>\n",
              "    <tr style=\"text-align: right;\">\n",
              "      <th></th>\n",
              "      <th>Unnamed: 0</th>\n",
              "      <th>day</th>\n",
              "      <th>time</th>\n",
              "      <th>temp</th>\n",
              "      <th>activ</th>\n",
              "    </tr>\n",
              "  </thead>\n",
              "  <tbody>\n",
              "    <tr>\n",
              "      <th>Unnamed: 0</th>\n",
              "      <td>1.000000</td>\n",
              "      <td>0.582524</td>\n",
              "      <td>0.016881</td>\n",
              "      <td>0.692478</td>\n",
              "      <td>0.840756</td>\n",
              "    </tr>\n",
              "    <tr>\n",
              "      <th>day</th>\n",
              "      <td>0.582524</td>\n",
              "      <td>1.000000</td>\n",
              "      <td>-0.802741</td>\n",
              "      <td>0.101195</td>\n",
              "      <td>0.302627</td>\n",
              "    </tr>\n",
              "    <tr>\n",
              "      <th>time</th>\n",
              "      <td>0.016881</td>\n",
              "      <td>-0.802741</td>\n",
              "      <td>1.000000</td>\n",
              "      <td>0.383757</td>\n",
              "      <td>0.244637</td>\n",
              "    </tr>\n",
              "    <tr>\n",
              "      <th>temp</th>\n",
              "      <td>0.692478</td>\n",
              "      <td>0.101195</td>\n",
              "      <td>0.383757</td>\n",
              "      <td>1.000000</td>\n",
              "      <td>0.880283</td>\n",
              "    </tr>\n",
              "    <tr>\n",
              "      <th>activ</th>\n",
              "      <td>0.840756</td>\n",
              "      <td>0.302627</td>\n",
              "      <td>0.244637</td>\n",
              "      <td>0.880283</td>\n",
              "      <td>1.000000</td>\n",
              "    </tr>\n",
              "  </tbody>\n",
              "</table>\n",
              "</div>"
            ],
            "text/plain": [
              "            Unnamed: 0       day      time      temp     activ\n",
              "Unnamed: 0    1.000000  0.582524  0.016881  0.692478  0.840756\n",
              "day           0.582524  1.000000 -0.802741  0.101195  0.302627\n",
              "time          0.016881 -0.802741  1.000000  0.383757  0.244637\n",
              "temp          0.692478  0.101195  0.383757  1.000000  0.880283\n",
              "activ         0.840756  0.302627  0.244637  0.880283  1.000000"
            ]
          },
          "metadata": {},
          "execution_count": 24
        }
      ]
    },
    {
      "cell_type": "markdown",
      "metadata": {
        "id": "ju_gYT9aG-Wr"
      },
      "source": [
        "### ***visualizing the correlation using a HEAT MAP***"
      ]
    },
    {
      "cell_type": "code",
      "metadata": {
        "colab": {
          "base_uri": "https://localhost:8080/",
          "height": 867
        },
        "id": "st41o6YrHMv7",
        "outputId": "31f56e9a-9158-4399-fc22-57542bfbc183"
      },
      "source": [
        "fig=plt.figure(figsize=(15,15))\n",
        "sns.heatmap(data.corr(),cmap=\"Reds\",annot=True);"
      ],
      "execution_count": null,
      "outputs": [
        {
          "output_type": "display_data",
          "data": {
            "image/png": "[encoded data removed]",
            "text/plain": [
              "<Figure size 1080x1080 with 2 Axes>"
            ]
          },
          "metadata": {
            "needs_background": "light"
          }
        }
      ]
    },
    {
      "cell_type": "markdown",
      "metadata": {
        "id": "h2XYkTxSJ248"
      },
      "source": [
        "\n",
        "### ***PAIR PLOT***"
      ]
    },
    {
      "cell_type": "code",
      "metadata": {
        "colab": {
          "base_uri": "https://localhost:8080/",
          "height": 777
        },
        "id": "CC1gPpc2Hc0I",
        "outputId": "6d818cfa-5d5e-47b0-fc82-42515de551b3"
      },
      "source": [
        "\n",
        "sns.pairplot(data= data,hue= \"activ\")"
      ],
      "execution_count": null,
      "outputs": [
        {
          "output_type": "stream",
          "name": "stderr",
          "text": [
            "/usr/local/lib/python3.7/dist-packages/seaborn/distributions.py:306: UserWarning: Dataset has 0 variance; skipping density estimate.\n",
            "  warnings.warn(msg, UserWarning)\n"
          ]
        },
        {
          "output_type": "execute_result",
          "data": {
            "text/plain": [
              "<seaborn.axisgrid.PairGrid at 0x7f70f74aeb90>"
            ]
          },
          "metadata": {},
          "execution_count": 26
        },
        {
          "output_type": "display_data",
          "data": {
            "image/png": "[encoded data removed]",
            "text/plain": [
              "<Figure size 762.375x720 with 20 Axes>"
            ]
          },
          "metadata": {
            "needs_background": "light"
          }
        }
      ]
    },
    {
      "cell_type": "markdown",
      "metadata": {
        "id": "YBndqslJHquY"
      },
      "source": [
        "pair plot is showing the bivariate relation between each pair of feautures."
      ]
    },
    {
      "cell_type": "markdown",
      "metadata": {
        "id": "4tgC1fKMJ_uE"
      },
      "source": [
        "### ***SCATTER PLOT***"
      ]
    },
    {
      "cell_type": "code",
      "metadata": {
        "colab": {
          "base_uri": "https://localhost:8080/",
          "height": 279
        },
        "id": "yW-yAjDLHrrz",
        "outputId": "ea7c2c80-17c1-4fce-a4fa-31ae51c03512"
      },
      "source": [
        "plot=sns.scatterplot(x=\"time\",y=\"temp\",hue=\"activ\",data=data)"
      ],
      "execution_count": null,
      "outputs": [
        {
          "output_type": "display_data",
          "data": {
            "image/png": "[encoded data removed]",
            "text/plain": [
              "<Figure size 432x288 with 1 Axes>"
            ]
          },
          "metadata": {
            "needs_background": "light"
          }
        }
      ]
    },
    {
      "cell_type": "markdown",
      "metadata": {
        "id": "zRtLsr4qIVhX"
      },
      "source": [
        "From the above visualization we can observe that beaver engaged in high intensity activity have more temperature compared to beaver engaged in low intensity activity."
      ]
    },
    {
      "cell_type": "markdown",
      "metadata": {
        "id": "PnqgayAFIVyF"
      },
      "source": [
        "### ***BOX PLOT***"
      ]
    },
    {
      "cell_type": "code",
      "metadata": {
        "colab": {
          "base_uri": "https://localhost:8080/",
          "height": 388
        },
        "id": "z8LoStb0IWcf",
        "outputId": "fb0ec1f7-25a1-40da-eff3-5110bfd1999d"
      },
      "source": [
        "fig,axs= plt.subplots(figsize=(8,6))\n",
        "plot=sns.boxplot(x=\"activ\",y=\"time\",data=data)"
      ],
      "execution_count": null,
      "outputs": [
        {
          "output_type": "display_data",
          "data": {
            "image/png": "[encoded data removed]",
            "text/plain": [
              "<Figure size 576x432 with 1 Axes>"
            ]
          },
          "metadata": {
            "needs_background": "light"
          }
        }
      ]
    },
    {
      "cell_type": "markdown",
      "metadata": {
        "id": "ZTB2Dp92Ik-c"
      },
      "source": [
        "From above box plot it is clear that beavers engaged in low intensity activity takes less time compared to beavers engaged in high intensity activity."
      ]
    },
    {
      "cell_type": "markdown",
      "metadata": {
        "id": "DTmTGVLfIlG5"
      },
      "source": [
        "### ***VIOLIN PLOT***"
      ]
    },
    {
      "cell_type": "code",
      "metadata": {
        "colab": {
          "base_uri": "https://localhost:8080/",
          "height": 296
        },
        "id": "2daMV067IlgN",
        "outputId": "ca858dad-db16-4268-f920-834b2b962033"
      },
      "source": [
        "sns.violinplot(x=\"activ\",y=\"time\",data=data,size=6)"
      ],
      "execution_count": null,
      "outputs": [
        {
          "output_type": "execute_result",
          "data": {
            "text/plain": [
              "<matplotlib.axes._subplots.AxesSubplot at 0x7f70e96736d0>"
            ]
          },
          "metadata": {},
          "execution_count": 35
        },
        {
          "output_type": "display_data",
          "data": {
            "image/png": "[encoded data removed]",
            "text/plain": [
              "<Figure size 432x288 with 1 Axes>"
            ]
          },
          "metadata": {
            "needs_background": "light"
          }
        }
      ]
    },
    {
      "cell_type": "markdown",
      "metadata": {
        "id": "2Syhl1evJAwm"
      },
      "source": [
        "### ***JOINT PLOT***"
      ]
    },
    {
      "cell_type": "code",
      "metadata": {
        "colab": {
          "base_uri": "https://localhost:8080/",
          "height": 369
        },
        "id": "V5aiSvQIJBUl",
        "outputId": "87ba4bd2-dfa9-472d-b230-ade335dcbbb2"
      },
      "source": [
        "sns.jointplot(x=\"day\",y=\"temp\",data=data,height=5)\n",
        "plt.show()"
      ],
      "execution_count": null,
      "outputs": [
        {
          "output_type": "display_data",
          "data": {
            "image/png": "[encoded data removed]",
            "text/plain": [
              "<Figure size 360x360 with 3 Axes>"
            ]
          },
          "metadata": {
            "needs_background": "light"
          }
        }
      ]
    },
    {
      "cell_type": "markdown",
      "metadata": {
        "id": "cXvOrbO6JLMH"
      },
      "source": [
        "We can also use the seaborn library to make similar plot.A seaborn jointplot shows bivariate scatterplots and univariate histograms in the same figure."
      ]
    },
    {
      "cell_type": "markdown",
      "metadata": {
        "id": "MYSZR0QCJLYz"
      },
      "source": [
        "### ***HIST PLOT***"
      ]
    },
    {
      "cell_type": "code",
      "metadata": {
        "colab": {
          "base_uri": "https://localhost:8080/",
          "height": 879
        },
        "id": "EsdzQELXJLuL",
        "outputId": "fc7ddb51-19be-44c1-c031-e51ed41b6af1"
      },
      "source": [
        "data.hist(edgecolor=\"black\",bins=23,figsize=(15,15))\n",
        "plt.show()"
      ],
      "execution_count": null,
      "outputs": [
        {
          "output_type": "display_data",
          "data": {
            "image/png": "[encoded data removed]",
            "text/plain": [
              "<Figure size 1080x1080 with 6 Axes>"
            ]
          },
          "metadata": {
            "needs_background": "light"
          }
        }
      ]
    },
    {
      "cell_type": "markdown",
      "metadata": {
        "id": "wKLN5cjyK2pN"
      },
      "source": [
        "## ***CONCLUSION***"
      ]
    },
    {
      "cell_type": "markdown",
      "metadata": {
        "id": "_0MzwV9yK9_L"
      },
      "source": [
        "\n",
        "\n",
        "\n",
        "\n",
        "*   We have five columns and all of them are numerical.\n",
        "\n",
        "\n",
        "*   From all the above observations we can clearly undrestand that our data set is a unbalanced dataset. It contains beaver that are in the threat and engaging  in low intensity activities and beaver that are outside the threat and engaging  in high intensity activities.\n",
        "\n",
        "*   Beaver engaged in high intensity activity have more temperature and less time compared to beaver engaged in low intensity activity.\n",
        "\n",
        "\n",
        "\n",
        "\n",
        "\n"
      ]
    }
  ]
}